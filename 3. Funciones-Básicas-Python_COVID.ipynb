{
 "cells": [
  {
   "cell_type": "markdown",
   "metadata": {},
   "source": [
    "<center><h1 style=\"font-size:2em;color:#2467C0\">  COVID-MEXICO 19-abril-2020  </h1></center>\n",
    "<br>\n",
    "<table>\n",
    "<col width=\"550\">\n",
    "<col width=\"450\">\n",
    "<tr>\n",
    "<td><img src=\"figuras/covid_mexico.png\" align=\"middle\" style=\"width:500\"/></td>\n",
    "<td>\n",
    "    \n",
    "A la fecha del 19 de abril del 2020 la República Mexicana contaba con 8 mil 261 contagios y 686 muertes a causa del COVID-19 de acuerdo con el informe de la Secretaría de Salud.\n",
    "    \n",
    "</td>\n",
    "</tr>\n",
    "</table>"
   ]
  },
  {
   "cell_type": "markdown",
   "metadata": {},
   "source": [
    "# 1. Pacientes, pacientes positivos, sospechosos y negativos"
   ]
  },
  {
   "cell_type": "code",
   "execution_count": 1,
   "metadata": {},
   "outputs": [
    {
     "name": "stdout",
     "output_type": "stream",
     "text": [
      "El número de pacientes es: 49570\n",
      "El número de positivos es: 8261\n",
      "El número de negativos es: 31170\n",
      "El número de sospechosos es: 10139\n"
     ]
    }
   ],
   "source": [
    "import csv\n",
    "\n",
    "file='datos/200419COVID19MEXICO.csv'\n",
    "\n",
    "num_pacientes=0\n",
    "num_positivos=0\n",
    "num_negativos=0\n",
    "num_sospechosos=0\n",
    "with open(file, encoding = 'utf-8') as csvfile: #Se usa el encoding utf-8 para leer los caractéres del español, como tildes.\n",
    "    lector = csv.reader(csvfile)\n",
    "    next(lector)\n",
    "    for linea in lector:\n",
    "        num_pacientes = num_pacientes + 1\n",
    "        if linea[30] == '1':\n",
    "            num_positivos = num_positivos + 1\n",
    "        if linea[30] == '2':\n",
    "            num_negativos = num_negativos + 1\n",
    "        if linea[30] == '3':\n",
    "            num_sospechosos = num_sospechosos + 1\n",
    "print('El número de pacientes es:', num_pacientes)\n",
    "print('El número de positivos es:', num_positivos)\n",
    "print('El número de negativos es:', num_negativos)\n",
    "print('El número de sospechosos es:', num_sospechosos)\n",
    "\n",
    "\n"
   ]
  },
  {
   "cell_type": "markdown",
   "metadata": {},
   "source": [
    "# 2. Defunciones"
   ]
  },
  {
   "cell_type": "code",
   "execution_count": 2,
   "metadata": {},
   "outputs": [
    {
     "name": "stdout",
     "output_type": "stream",
     "text": [
      "Número de defunciones: 1288\n",
      "Número de defunciones por covid: 686\n"
     ]
    }
   ],
   "source": [
    "import csv\n",
    "\n",
    "file='datos/200419COVID19MEXICO.csv'\n",
    "num_def=0\n",
    "num_def_cov=0\n",
    "\n",
    "# Defunciones en general\n",
    "with open(file, encoding='utf-8') as csvfile:\n",
    "    lector = csv.reader(csvfile)\n",
    "    next(lector)\n",
    "    for linea in lector:\n",
    "        if linea[12] != '9999-99-99':\n",
    "            num_def = num_def + 1\n",
    "print('Número de defunciones:',num_def)\n",
    "\n",
    "# Defunciones por covid\n",
    "with open(file, encoding='utf-8') as csvfile:\n",
    "    lector = csv.reader(csvfile)\n",
    "    next(lector)\n",
    "    for linea in lector:\n",
    "        if linea[12] != '9999-99-99' and linea[30] == '1':\n",
    "            num_def_cov = num_def_cov + 1\n",
    "print('Número de defunciones por covid:',num_def_cov)\n",
    "\n",
    "        "
   ]
  },
  {
   "cell_type": "markdown",
   "metadata": {},
   "source": [
    "# 3. Información de estados"
   ]
  },
  {
   "cell_type": "code",
   "execution_count": 3,
   "metadata": {},
   "outputs": [
    {
     "data": {
      "image/png": "[encoded data removed]",
      "text/plain": [
       "<Figure size 1000x600 with 1 Axes>"
      ]
     },
     "metadata": {},
     "output_type": "display_data"
    }
   ],
   "source": [
    "import csv\n",
    "\n",
    "file='datos/200419COVID19MEXICO.csv'\n",
    "num_pacientes=0\n",
    "\n",
    "estados={}\n",
    "\n",
    "\n",
    "with open(file, encoding='utf-8') as csvfile:\n",
    "    lector = csv.reader(csvfile)\n",
    "    next(lector)\n",
    "    for linea in lector:\n",
    "        if linea[30] == '1':\n",
    "            estados[linea[4]] = estados.get(linea[4],0)+1\n",
    "# for valor in sorted(estados):\n",
    "  #  print(valor,estados[valor])\n",
    "\n",
    "import matplotlib.pyplot as plt\n",
    "\n",
    "plt.figure(figsize=(10,6))\n",
    "plt.bar(estados.keys(),estados.values())\n",
    "plt.show()"
   ]
  },
  {
   "cell_type": "markdown",
   "metadata": {},
   "source": [
    "# 4. Total de hombres y mujeres con Covid"
   ]
  },
  {
   "cell_type": "code",
   "execution_count": 4,
   "metadata": {},
   "outputs": [
    {
     "name": "stdout",
     "output_type": "stream",
     "text": [
      "Número de hombres con covid: 4789\n",
      "Número de mujeres con covid: 3472\n"
     ]
    }
   ],
   "source": [
    "import csv\n",
    "\n",
    "file='datos/200419COVID19MEXICO.csv'\n",
    "\n",
    "num_pacientes=0\n",
    "num_muj_positivo=0\n",
    "num_hom_positivo=0\n",
    "\n",
    "with open(file, encoding = 'utf-8') as csvfile: #Se usa el encoding utf-8 para leer los caractéres del español, como tildes.\n",
    "    lector = csv.reader(csvfile)\n",
    "    next(lector)\n",
    "    for linea in lector:\n",
    "        num_pacientes = num_pacientes + 1\n",
    "        if linea[30] == '1' and linea[5] == '2':\n",
    "            num_hom_positivo = num_hom_positivo + 1\n",
    "        if linea[30] == '1' and linea[5] == '1':\n",
    "            num_muj_positivo = num_muj_positivo + 1\n",
    "print('Número de hombres con covid:', num_hom_positivo)\n",
    "print('Número de mujeres con covid:', num_muj_positivo)"
   ]
  },
  {
   "cell_type": "markdown",
   "metadata": {},
   "source": [
    "# 5.  Edades de los pacientes de Covid ( 0-15 , 15-30, 30-45,45-60, > 60 )"
   ]
  },
  {
   "cell_type": "code",
   "execution_count": 5,
   "metadata": {},
   "outputs": [
    {
     "name": "stdout",
     "output_type": "stream",
     "text": [
      "El número de pacientes positivos con edades entre 0 - 15 años: 116\n",
      "El número de pacientes positivos con edades entre 15 - 30 años: 1262\n",
      "El número de pacientes positivos con edades entre 30 - 45 años: 2716\n",
      "El número de pacientes positivos con edades entre 45 - 60 años: 2631\n",
      "El número de pacientes positivos con edades mayores a 60 años: 1536\n"
     ]
    }
   ],
   "source": [
    "import csv\n",
    "file='datos/200419COVID19MEXICO.csv'\n",
    "\n",
    "num_0_15=0\n",
    "num_15_30=0\n",
    "num_30_45=0\n",
    "num_45_60=0\n",
    "num_60=0\n",
    "\n",
    "with open(file, encoding = 'utf-8') as csvfile:\n",
    "    lector = csv.reader(csvfile)\n",
    "    next(lector)\n",
    "    for linea in lector:\n",
    "        if linea[30] == '1' and 0<=int(linea[15])<=15:\n",
    "            num_0_15 = num_0_15 + 1\n",
    "        if linea[30] == '1' and 15<int(linea[15])<=30:\n",
    "            num_15_30 = num_15_30 + 1\n",
    "        if linea[30] == '1' and 30<int(linea[15])<=45:\n",
    "            num_30_45 = num_30_45 + 1\n",
    "        if linea[30] == '1' and 45<int(linea[15])<=60:\n",
    "            num_45_60 = num_45_60 + 1\n",
    "        if linea[30] == '1' and 60<int(linea[15]):\n",
    "            num_60 = num_60 + 1\n",
    "\n",
    "print('El número de pacientes positivos con edades entre 0 - 15 años:', num_0_15)\n",
    "print('El número de pacientes positivos con edades entre 15 - 30 años:', num_15_30)\n",
    "print('El número de pacientes positivos con edades entre 30 - 45 años:', num_30_45)\n",
    "print('El número de pacientes positivos con edades entre 45 - 60 años:', num_45_60)\n",
    "print('El número de pacientes positivos con edades mayores a 60 años:', num_60)\n",
    "\n",
    "# num_0_15 + num_15_30 + num_30_45 + num_45_60 + num_60"
   ]
  },
  {
   "cell_type": "markdown",
   "metadata": {},
   "source": [
    "# 6. Número de personas confirmadas con diabetes y Covid"
   ]
  },
  {
   "cell_type": "code",
   "execution_count": 6,
   "metadata": {},
   "outputs": [
    {
     "name": "stdout",
     "output_type": "stream",
     "text": [
      "El número de personas confirmadas con diabetes y Covid: 1380\n"
     ]
    }
   ],
   "source": [
    "import csv\n",
    "file = 'datos/200419COVID19MEXICO.csv'\n",
    "count_positivos_DyC=0\n",
    "with open(file, encoding='utf-8') as csvfile:\n",
    "    lector = csv.reader(csvfile)\n",
    "    next(lector)\n",
    "    for linea in lector:\n",
    "        if linea[19] == '1' and linea[30] == '1':\n",
    "            count_positivos_DyC = count_positivos_DyC + 1\n",
    "\n",
    "print('El número de personas confirmadas con diabetes y Covid:', count_positivos_DyC)\n",
    "        \n"
   ]
  },
  {
   "cell_type": "markdown",
   "metadata": {},
   "source": [
    "# 7. Número de pacientes que han entrado a cuidados intensivos"
   ]
  },
  {
   "cell_type": "code",
   "execution_count": 7,
   "metadata": {},
   "outputs": [
    {
     "name": "stdout",
     "output_type": "stream",
     "text": [
      "El número de pacientes que han entrado a cuidados intensivos: 1066\n"
     ]
    }
   ],
   "source": [
    "import csv\n",
    "file = 'datos/200419COVID19MEXICO.csv'\n",
    "count_intensivos = 0\n",
    "with open(file, encoding='utf-8') as csvfile:\n",
    "    lector = csv.reader(csvfile)\n",
    "    next(lector)\n",
    "    for linea in lector:\n",
    "        if linea[34] == '1':\n",
    "            count_intensivos = count_intensivos + 1\n",
    "print('El número de pacientes que han entrado a cuidados intensivos:', count_intensivos)"
   ]
  },
  {
   "cell_type": "markdown",
   "metadata": {},
   "source": [
    "# 8. Porcentaje de pacientes mexicanos y no mexicanos."
   ]
  },
  {
   "cell_type": "code",
   "execution_count": 8,
   "metadata": {},
   "outputs": [
    {
     "name": "stdout",
     "output_type": "stream",
     "text": [
      "El número de pacientes mexicanos es: 21421\n",
      "El número de pacientes no mexicanos es: 719\n"
     ]
    }
   ],
   "source": [
    "import csv\n",
    "file = 'datos/200419COVID19MEXICO.csv'\n",
    "pacientes_mex=0\n",
    "pacientes_no_mex=0\n",
    "with open(file, encoding='utf-8') as csvfile:\n",
    "    lector = csv.reader(csvfile)\n",
    "    next(lector)\n",
    "    for linea in lector:\n",
    "        \n",
    "        if linea[32] == 'México':\n",
    "            pacientes_mex = pacientes_mex + 1\n",
    "        else:\n",
    "            if linea[32] == '99':\n",
    "                next(lector)\n",
    "            else:\n",
    "                pacientes_no_mex = pacientes_no_mex + 1\n",
    "        \n",
    "print('El número de pacientes mexicanos es:', pacientes_mex)\n",
    "print('El número de pacientes no mexicanos es:', pacientes_no_mex)\n",
    "        "
   ]
  },
  {
   "cell_type": "markdown",
   "metadata": {},
   "source": [
    "# 9. Número de pacientes que han entrado a cuidados intensivos."
   ]
  },
  {
   "cell_type": "code",
   "execution_count": 9,
   "metadata": {},
   "outputs": [],
   "source": [
    "# Se repitió"
   ]
  },
  {
   "cell_type": "markdown",
   "metadata": {},
   "source": [
    "# 10. Encontrar la tabla que aparece en la imagen\n",
    "\n",
    "* 1 a 50 casos: 4 estados\n",
    "* 51 a 100 casos: 9 estados\n",
    "* 101 a 250 casos: 12 estados\n",
    "* 251 a 500 casos: 4 estados\n",
    "* 501 a 1000 casos: 2 estados\n",
    "* Mayor a 1001: 1 estados"
   ]
  },
  {
   "cell_type": "code",
   "execution_count": 10,
   "metadata": {},
   "outputs": [
    {
     "name": "stdout",
     "output_type": "stream",
     "text": [
      "- 1 a 50 casos: 4 estados\n",
      "- 51 a 100 casos: 9 estados\n",
      "- 101 a 250 casos: 12 estados\n",
      "- 251 a 500 casos: 4 estados\n",
      "- 501 a 1000 casos: 2 estados\n",
      "- Mayor a 1001 casos: 1 estados\n"
     ]
    }
   ],
   "source": [
    "import csv\n",
    "file = 'datos/200419COVID19MEXICO.csv'\n",
    "estados_n = {}\n",
    "with open(file, encoding='utf-8') as csvfile:\n",
    "    lector = csv.reader(csvfile)\n",
    "    next(lector)\n",
    "    for linea in lector:\n",
    "        if linea[30] == '1':\n",
    "            estados_n[linea[4]] = estados_n.get(linea[4],0) + 1\n",
    "x=list(estados_n.items())\n",
    "count_1_50 = 0\n",
    "count_51_100 = 0\n",
    "count_101_250=0\n",
    "count_251_500=0\n",
    "count_501_1000=0\n",
    "count_1001=0\n",
    "\n",
    "for i in range(0,len(x)):\n",
    "    if 1<x[i][1]<50:\n",
    "        count_1_50 = count_1_50 + 1\n",
    "    if 51<x[i][1]<100:\n",
    "        count_51_100 = count_51_100 + 1 \n",
    "    if 101<x[i][1]<250:\n",
    "        count_101_250 = count_101_250 + 1\n",
    "    if 251<x[i][1]<500:\n",
    "        count_251_500 = count_251_500 + 1\n",
    "    if 501<x[i][1]<=1000:\n",
    "        count_501_1000 = count_501_1000 + 1\n",
    "    if 1001<x[i][1]:\n",
    "        count_1001 = count_1001 + 1\n",
    "\n",
    "print('- 1 a 50 casos:', count_1_50, 'estados')\n",
    "print('- 51 a 100 casos:', count_51_100, 'estados')\n",
    "print('- 101 a 250 casos:', count_101_250, 'estados')\n",
    "print('- 251 a 500 casos:', count_251_500, 'estados')\n",
    "print('- 501 a 1000 casos:', count_501_1000, 'estados')\n",
    "print('- Mayor a 1001 casos:', count_1001, 'estados')\n"
   ]
  },
  {
   "cell_type": "code",
   "execution_count": 11,
   "metadata": {},
   "outputs": [],
   "source": [
    "# Código de ayuda\n",
    "\n",
    "#prueba = {'Yuc':20,'CDMX':50,'MTY':100,'BC':500,'PUE':1,'BCS':21}  \n",
    "#x=list(prueba.items())  \n",
    "#count_may_20=0  \n",
    "#for i in range(0,len(x)):  \n",
    "#    if x[i][1] > 20:  \n",
    "#        count_may_20 = count_may_20 + 1  \n",
    "  \n",
    "#print(count_may_20)\n"
   ]
  }
 ],
 "metadata": {
  "kernelspec": {
   "display_name": "Python 3 (ipykernel)",
   "language": "python",
   "name": "python3"
  },
  "language_info": {
   "codemirror_mode": {
    "name": "ipython",
    "version": 3
   },
   "file_extension": ".py",
   "mimetype": "text/x-python",
   "name": "python",
   "nbconvert_exporter": "python",
   "pygments_lexer": "ipython3",
   "version": "3.10.6"
  }
 },
 "nbformat": 4,
 "nbformat_minor": 4
}
